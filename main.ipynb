{
 "cells": [
  {
   "cell_type": "code",
   "execution_count": null,
   "metadata": {},
   "outputs": [],
   "source": [
    "from dash import Dash, html, dcc, Output, Input, State\n",
    "from datetime import datetime\n",
    "import pandas as pd\n",
    "import yfinance as yf"
   ]
  },
  {
   "cell_type": "code",
   "execution_count": null,
   "metadata": {},
   "outputs": [],
   "source": [
    "filename = \"nasdaq_screener.csv\"\n",
    "data = pd.read_csv(filename)"
   ]
  },
  {
   "cell_type": "code",
   "execution_count": null,
   "metadata": {},
   "outputs": [],
   "source": [
    "data.head()"
   ]
  },
  {
   "cell_type": "code",
   "execution_count": null,
   "metadata": {},
   "outputs": [],
   "source": [
    "data_options = []\n",
    "for element in data.index:\n",
    "    data_options.append({\"label\": data[\"Name\"][element], \"value\": data[\"Symbol\"][element]})"
   ]
  },
  {
   "cell_type": "code",
   "execution_count": null,
   "metadata": {},
   "outputs": [],
   "source": [
    "heading = html.H1(\"Stock Ticker Web App\")\n",
    "stock_picker = html.Div([html.H2('Select a stock:'),\n",
    "                        dcc.Dropdown(\n",
    "                            id=\"dropdown\",\n",
    "                            options=data_options,\n",
    "                            value = [\"GOOG\"],\n",
    "                            multi=True\n",
    "                        )])\n",
    "date_picker = html.Div([html.H2(\"Select Data\"),\n",
    "                        dcc.DatePickerRange(\n",
    "                            id=\"datepicker\",\n",
    "                            min_date_allowed = datetime(2015, 1, 1),\n",
    "                            max_date_allowed=datetime(2023, 2, 1),\n",
    "                            start_date=datetime(2023, 1, 1),\n",
    "                            end_date=datetime(2023, 2, 1)\n",
    "                        )])\n",
    "button = html.Div([html.Button(\n",
    "                        id=\"submit-button\",\n",
    "                        n_clicks=0,\n",
    "                        children=\"Submit\"\n",
    "                    )])\n",
    "graph = dcc.Graph(id=\"stock-graph\")"
   ]
  },
  {
   "cell_type": "code",
   "execution_count": null,
   "metadata": {},
   "outputs": [],
   "source": [
    "app = Dash()\n",
    "app.layout = html.Div([heading, stock_picker, date_picker, button, graph])"
   ]
  },
  {
   "cell_type": "code",
   "execution_count": null,
   "metadata": {},
   "outputs": [],
   "source": [
    "@app.callback(Output(\"stock-graph\", \"figure\"),\n",
    "              [Input(\"submit-button\", \"n_clicks\")],\n",
    "              [State(\"dropdown\", \"value\"), \n",
    "              State(\"datepicker\", \"start_date\"),\n",
    "              State(\"datepicker\", \"end_date\")])\n",
    "def update_graph(number_of_clicks, stocks, start_date, end_date):\n",
    "    start = datetime.strptime(start_date[:10], \"%Y-%m-%d\")\n",
    "    end = datetime.strptime(end_date[:10], \"%Y-%m-%d\")\n",
    "    graph_data = []\n",
    "    for stock in stocks:\n",
    "        new_df = yf.download(tickers=[stock], start=start, end=end)\n",
    "        new_df.head()\n",
    "        dates = []\n",
    "        for row in range(len(new_df)):\n",
    "            new_date = str(new_df.index[row])\n",
    "            new_date = new_date[0:10]\n",
    "            dates.append(new_date)\n",
    "        \n",
    "        new_df[\"Date\"] = dates\n",
    "        graph_data.append({\n",
    "            \"x\": new_df[\"Date\"],\n",
    "            \"y\": new_df[\"Adj Close\"],\n",
    "            \"name\": stock\n",
    "        })\n",
    "    \n",
    "    figure = {\n",
    "        \"data\": graph_data,\n",
    "        \"layout\": {\n",
    "            \"title\": \"Stock Data\"\n",
    "        }\n",
    "    }\n",
    "\n",
    "    return figure\n"
   ]
  },
  {
   "cell_type": "code",
   "execution_count": null,
   "metadata": {},
   "outputs": [],
   "source": [
    "app.run_server(port = 5050)"
   ]
  }
 ],
 "metadata": {
  "kernelspec": {
   "display_name": ".venv",
   "language": "python",
   "name": "python3"
  },
  "language_info": {
   "codemirror_mode": {
    "name": "ipython",
    "version": 3
   },
   "file_extension": ".py",
   "mimetype": "text/x-python",
   "name": "python",
   "nbconvert_exporter": "python",
   "pygments_lexer": "ipython3",
   "version": "3.10.6"
  },
  "orig_nbformat": 4,
  "vscode": {
   "interpreter": {
    "hash": "4ecfb12c00355df67676adb96d716e7157c2de926d656ad7f07dc9c0788df2a0"
   }
  }
 },
 "nbformat": 4,
 "nbformat_minor": 2
}
